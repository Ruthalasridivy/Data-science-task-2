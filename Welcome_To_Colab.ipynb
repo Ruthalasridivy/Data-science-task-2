{
  "cells": [
    {
      "cell_type": "markdown",
      "metadata": {
        "id": "view-in-github",
        "colab_type": "text"
      },
      "source": [
        "<a href=\"https://colab.research.google.com/github/Ruthalasridivy/Data-science-task-2/blob/main/Welcome_To_Colab.ipynb\" target=\"_parent\"><img src=\"https://colab.research.google.com/assets/colab-badge.svg\" alt=\"Open In Colab\"/></a>"
      ]
    },
    {
      "cell_type": "code",
      "source": [
        "import pandas as pd\n",
        "import numpy as np\n",
        "import matplotlib.pyplot as plt\n",
        "import seaborn as sns\n",
        "\n",
        "# Load the Titanic dataset\n",
        "# Option 1: Load from Seaborn's built-in datasets\n",
        "df = sns.load_dataset('titanic')\n",
        "\n",
        "# Option 2: Load from a CSV file (if downloaded from Kaggle)\n",
        "# df = pd.read_csv('titanic.csv')\n",
        "\n",
        "# Display the first few rows to get a sense of the data\n",
        "print(\"Initial Data Head:\")\n",
        "print(df.head())\n",
        "\n",
        "print(\"\\nMissing Values Count:\")\n",
        "print(df.isnull().sum())\n",
        "\n",
        "# Handle 'age' missing values by filling with the median\n",
        "df['age'] = df['age'].fillna(df['age'].median())\n",
        "\n",
        "# Handle 'embarked' missing values by filling with the mode\n",
        "most_frequent_embarked = df['embarked'].mode()[0]\n",
        "df['embarked'] = df['embarked'].fillna(most_frequent_embarked)\n",
        "\n",
        "# Drop the 'deck' column due to a high number of missing values\n",
        "df.drop('deck', axis=1, inplace=True)\n",
        "\n",
        "# Verify that missing values have been handled\n",
        "print(\"\\nMissing Values After Cleaning:\")\n",
        "print(df.isnull().sum())\n",
        "\n",
        "# Distribution of survival\n",
        "sns.countplot(x='survived', data=df)\n",
        "plt.title('Survival Count (0 = No, 1 = Yes)')\n",
        "plt.show()\n",
        "\n",
        "# Distribution of Age (a continuous variable)\n",
        "sns.histplot(df['age'], kde=True, bins=20)\n",
        "plt.title('Distribution of Age')\n",
        "plt.show()\n",
        "\n",
        "# Distribution of Passenger Class (Pclass)\n",
        "sns.countplot(x='pclass', data=df)\n",
        "plt.title('Distribution of Passenger Class')\n",
        "plt.show()\n",
        "sns.barplot(x='sex', y='survived', data=df)\n",
        "plt.title('Survival Rate by Gender')\n",
        "plt.show()\n",
        "sns.barplot(x='pclass', y='survived', data=df)\n",
        "plt.title('Survival Rate by Passenger Class')\n",
        "plt.show()\n",
        "sns.violinplot(x='survived', y='age', data=df)\n",
        "plt.title('Age Distribution of Survivors vs. Non-Survivors')\n",
        "plt.show()\n",
        "sns.barplot(x='embarked', y='survived', data=df)\n",
        "plt.title('Survival Rate by Embarkation Port')\n",
        "plt.show()"
      ],
      "metadata": {
        "id": "8SuUIDAfdgg6"
      },
      "execution_count": null,
      "outputs": []
    }
  ],
  "metadata": {
    "colab": {
      "name": "Welcome To Colab",
      "toc_visible": true,
      "provenance": [],
      "include_colab_link": true
    },
    "kernelspec": {
      "display_name": "Python 3",
      "name": "python3"
    }
  },
  "nbformat": 4,
  "nbformat_minor": 0
}